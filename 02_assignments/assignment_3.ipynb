{
 "cells": [
  {
   "cell_type": "markdown",
   "id": "7b0bcac6-5086-4f4e-928a-570a9ff7ae58",
   "metadata": {},
   "source": [
    "# Assignment 3"
   ]
  },
  {
   "cell_type": "markdown",
   "id": "5fce0350-2a17-4e93-8d4c-0b8748fdfc32",
   "metadata": {},
   "source": [
    "As before, if a question can be answered with 'yes/no', or a numeric value, you may simply state as much. If you incorporate code from the internet (which is not required and generally not advisable), please cite the source within your code (providing a URL is sufficient).\n",
    "\n",
    "We will go through comparable code and concepts in the live learning session. If you run into trouble, start by using the help `help()` function in Python, to get information about the datasets and function in question. The internet is also a great resource when coding (though note that no outside searches are required by the assignment!). If you do incorporate code from the internet, please cite the source within your code (providing a URL is sufficient).\n",
    "\n",
    "Please bring questions that you cannot work out on your own to office hours, work periods or share with your peers on Slack. We will work with you through the issue."
   ]
  },
  {
   "cell_type": "code",
   "execution_count": 2,
   "id": "b92f7c91",
   "metadata": {},
   "outputs": [],
   "source": [
    "import numpy as np\n",
    "import pandas as pd\n",
    "import matplotlib.pyplot as plt\n",
    "import statsmodels.api as sm"
   ]
  },
  {
   "cell_type": "markdown",
   "id": "d7fff1dd-e4ce-4a60-96a0-d08136e9bf5e",
   "metadata": {},
   "source": [
    "### Question 1: Resampling via Bootstrapping\n",
    "\n",
    "Now, we'll use the `iris` dataset, which we will add to Python using the `statsmodels` library. As always, start by reviewing a description of the dataset, by printing the dataset."
   ]
  },
  {
   "cell_type": "code",
   "execution_count": 3,
   "id": "47f4dcf5-0d4c-41ea-892d-d9f2c1aa1859",
   "metadata": {},
   "outputs": [],
   "source": [
    "# Import\n",
    "iris = sm.datasets.get_rdataset('iris', 'datasets')\n",
    "df = pd.DataFrame(iris.data)"
   ]
  },
  {
   "cell_type": "code",
   "execution_count": 4,
   "id": "f6e54602",
   "metadata": {},
   "outputs": [
    {
     "data": {
      "text/html": [
       "<div>\n",
       "<style scoped>\n",
       "    .dataframe tbody tr th:only-of-type {\n",
       "        vertical-align: middle;\n",
       "    }\n",
       "\n",
       "    .dataframe tbody tr th {\n",
       "        vertical-align: top;\n",
       "    }\n",
       "\n",
       "    .dataframe thead th {\n",
       "        text-align: right;\n",
       "    }\n",
       "</style>\n",
       "<table border=\"1\" class=\"dataframe\">\n",
       "  <thead>\n",
       "    <tr style=\"text-align: right;\">\n",
       "      <th></th>\n",
       "      <th>Sepal.Length</th>\n",
       "      <th>Sepal.Width</th>\n",
       "      <th>Petal.Length</th>\n",
       "      <th>Petal.Width</th>\n",
       "      <th>Species</th>\n",
       "    </tr>\n",
       "  </thead>\n",
       "  <tbody>\n",
       "    <tr>\n",
       "      <th>0</th>\n",
       "      <td>5.1</td>\n",
       "      <td>3.5</td>\n",
       "      <td>1.4</td>\n",
       "      <td>0.2</td>\n",
       "      <td>setosa</td>\n",
       "    </tr>\n",
       "    <tr>\n",
       "      <th>1</th>\n",
       "      <td>4.9</td>\n",
       "      <td>3.0</td>\n",
       "      <td>1.4</td>\n",
       "      <td>0.2</td>\n",
       "      <td>setosa</td>\n",
       "    </tr>\n",
       "    <tr>\n",
       "      <th>2</th>\n",
       "      <td>4.7</td>\n",
       "      <td>3.2</td>\n",
       "      <td>1.3</td>\n",
       "      <td>0.2</td>\n",
       "      <td>setosa</td>\n",
       "    </tr>\n",
       "    <tr>\n",
       "      <th>3</th>\n",
       "      <td>4.6</td>\n",
       "      <td>3.1</td>\n",
       "      <td>1.5</td>\n",
       "      <td>0.2</td>\n",
       "      <td>setosa</td>\n",
       "    </tr>\n",
       "    <tr>\n",
       "      <th>4</th>\n",
       "      <td>5.0</td>\n",
       "      <td>3.6</td>\n",
       "      <td>1.4</td>\n",
       "      <td>0.2</td>\n",
       "      <td>setosa</td>\n",
       "    </tr>\n",
       "  </tbody>\n",
       "</table>\n",
       "</div>"
      ],
      "text/plain": [
       "   Sepal.Length  Sepal.Width  Petal.Length  Petal.Width Species\n",
       "0           5.1          3.5           1.4          0.2  setosa\n",
       "1           4.9          3.0           1.4          0.2  setosa\n",
       "2           4.7          3.2           1.3          0.2  setosa\n",
       "3           4.6          3.1           1.5          0.2  setosa\n",
       "4           5.0          3.6           1.4          0.2  setosa"
      ]
     },
     "execution_count": 4,
     "metadata": {},
     "output_type": "execute_result"
    }
   ],
   "source": [
    "df.head()"
   ]
  },
  {
   "cell_type": "markdown",
   "id": "7717a32c",
   "metadata": {},
   "source": [
    "_(i)_ Create an `alpha_func(D, idx)` function which takes the `Sepal`'s `width` and `length` to calculate for alpha"
   ]
  },
  {
   "cell_type": "code",
   "execution_count": 5,
   "id": "f3da5483",
   "metadata": {},
   "outputs": [],
   "source": [
    "# Your code here\n",
    "def alpha_func(D, idx):\n",
    "    cov_ = np.cov(D[['Sepal.Length','Sepal.Width']].loc[idx], rowvar=False)\n",
    "    return ((cov_[1,1] - cov_[0,1]) /\n",
    "           (cov_[0,0]+cov_[1,1]-2*cov_[0,1]))"
   ]
  },
  {
   "cell_type": "markdown",
   "id": "ff94d66b",
   "metadata": {},
   "source": [
    "Test the code below"
   ]
  },
  {
   "cell_type": "code",
   "execution_count": 6,
   "id": "eda715cd",
   "metadata": {},
   "outputs": [
    {
     "data": {
      "text/plain": [
       "0.38105014898343803"
      ]
     },
     "execution_count": 6,
     "metadata": {},
     "output_type": "execute_result"
    }
   ],
   "source": [
    "alpha_func(df, range(100))"
   ]
  },
  {
   "cell_type": "markdown",
   "id": "f338b14e",
   "metadata": {},
   "source": [
    "_(ii)_ Construct a new bootstrap data set and recompute alpha"
   ]
  },
  {
   "cell_type": "code",
   "execution_count": 7,
   "id": "34ee835f",
   "metadata": {},
   "outputs": [
    {
     "data": {
      "text/plain": [
       "0.3324645134841774"
      ]
     },
     "execution_count": 7,
     "metadata": {},
     "output_type": "execute_result"
    }
   ],
   "source": [
    "rng = np.random.default_rng(0)\n",
    "alpha_func(df,\n",
    "           rng.choice(100,\n",
    "                      100,\n",
    "                      replace=True))"
   ]
  },
  {
   "cell_type": "markdown",
   "id": "056080ff-7aec-41aa-bb61-763b390e4cf2",
   "metadata": {},
   "source": [
    "Imagine we are analysts working for a shipping company. The company wants to know the average length of iris' petals, to inform space allotment on an upcoming shipment. The relevant variable in the dataset is `Sepal.Length`. \n",
    "\n",
    "_(iii)_ Why is it (perhaps) not sufficient to simply calculate the mean of `Sepal.Length`? What more information will preforming a bootstrap provide to us?  \n",
    "\n",
    "Answer: Bootstrap is powerfull way to estimate the distribution of statistics to measure the variation in the data. A simple mean may overlook the data distribution.\n",
    "\n",
    "_(iv)_ We can perform bootstrapping in Python by defining a simple function using `boot_SE()` for computing the bootstrap standard error. Remember, because bootstrapping involves randomness, we must first set a seed for reproducibility!"
   ]
  },
  {
   "cell_type": "code",
   "execution_count": 8,
   "id": "77540f76-7747-4dba-8e77-e1ded54af536",
   "metadata": {},
   "outputs": [],
   "source": [
    "# Add your code here to set the seed\n",
    "import warnings\n",
    "\n",
    "def boot_SE(func,\n",
    "            D,\n",
    "            n=None,\n",
    "            B=1000,\n",
    "            seed=0):\n",
    "    warnings.filterwarnings(action='ignore', category=FutureWarning, module='ISLP.models.columns', lineno=151)\n",
    "    \n",
    "    rng = np.random.default_rng(seed)\n",
    "    first_, second_ = 0, 0\n",
    "    n = n or D.shape[0]\n",
    "    for _ in range(B):\n",
    "        idx = rng.choice(D.index,\n",
    "                         n,\n",
    "                         replace=True)\n",
    "        value = func(D, idx)\n",
    "        first_ += value\n",
    "        second_ += value**2\n",
    "    return np.sqrt(second_ / B - (first_ / B)**2)\n",
    "    "
   ]
  },
  {
   "cell_type": "markdown",
   "id": "8a543472",
   "metadata": {},
   "source": [
    "_(v)_ Evaluate the accuracy of our alpha estimate with B = 1000"
   ]
  },
  {
   "cell_type": "code",
   "execution_count": 9,
   "id": "9ed41c4e",
   "metadata": {},
   "outputs": [
    {
     "data": {
      "text/plain": [
       "0.031805100768609415"
      ]
     },
     "execution_count": 9,
     "metadata": {},
     "output_type": "execute_result"
    }
   ],
   "source": [
    "# Your code here\n",
    "rng = np.random.default_rng(0)\n",
    "alpha_func(df,\n",
    "           rng.choice(100,\n",
    "                      100,\n",
    "                      replace=True))\n",
    "\n",
    "alpha_SE = boot_SE(alpha_func,\n",
    "                   df,\n",
    "                   B=1000,\n",
    "                   seed=0)\n",
    "alpha_SE"
   ]
  },
  {
   "cell_type": "markdown",
   "id": "785fe758-f395-40b6-a9a3-28ec2efeba29",
   "metadata": {},
   "source": [
    "_(vi)_ What is the original mean value of `Sepal.Length`?\n",
    "\n",
    "Next, let's look _inside_ our bootstrapping to understand the new, bootstrapped sample we have created. Let's review the bootstrapped range, by using `t_range = np.ptp(boot_se_samples)`.\n",
    "\n",
    "_(vii)_. Write code to review the bootstrapped mean value, and the standard deviation of the bootstrapped samples. Compare the mean against its original value."
   ]
  },
  {
   "cell_type": "code",
   "execution_count": 11,
   "id": "0a7a5e27",
   "metadata": {},
   "outputs": [
    {
     "name": "stdout",
     "output_type": "stream",
     "text": [
      "0.828066127977863\n",
      "5.843333333333334\n"
     ]
    }
   ],
   "source": [
    "print(df['Sepal.Length'].std())\n",
    "print(df['Sepal.Length'].mean())"
   ]
  },
  {
   "cell_type": "code",
   "execution_count": 17,
   "id": "1bbf2154",
   "metadata": {},
   "outputs": [
    {
     "data": {
      "text/plain": [
       "4.8"
      ]
     },
     "execution_count": 17,
     "metadata": {},
     "output_type": "execute_result"
    }
   ],
   "source": [
    "np.random.choice(np.array(df['Sepal.Length']).flatten())"
   ]
  },
  {
   "cell_type": "code",
   "execution_count": 22,
   "id": "7686243c",
   "metadata": {},
   "outputs": [
    {
     "name": "stdout",
     "output_type": "stream",
     "text": [
      "{5.8587} {0.8413586096308756}\n"
     ]
    },
    {
     "data": {
      "text/plain": [
       "array([6.2, 7.1, 5. , 6.4, 6. , 4.3, 5.9, 7. , 5.5, 4.8, 5.1, 6.3, 5. ,\n",
       "       4.9, 5. , 5.6, 6.5, 6.5, 6.5, 7.9, 5.5, 6.3, 5.1, 7.9, 6.7, 5.7,\n",
       "       5.7, 4.6, 5.1, 4.5, 6.7, 4.6, 5.4, 5.1, 6.1, 5.7, 5.5, 5.4, 6. ,\n",
       "       5.8, 7.7, 5. , 5.6, 5.4, 4.6, 5.9, 7.2, 6.4, 6.7, 6.1, 4.6, 5.4,\n",
       "       6.7, 4.9, 5.5, 4.8, 6.1, 4.4, 6.2, 5.8, 6. , 5.4, 5.8, 7.2, 5.6,\n",
       "       6.6, 6.7, 4.6, 6. , 7.2, 5.5, 5.2, 6.3, 5.6, 4.9, 7.7, 7.7, 6.8,\n",
       "       7.7, 5.1, 5. , 6.4, 4.6, 5.2, 5.6, 6.9, 5.1, 6.4, 5.4, 6.7, 6.2,\n",
       "       7.2, 6.3, 5. , 5.1, 7.7, 4.9, 7.2, 4.4, 5.9, 7.7, 6.4, 6.1, 5.7,\n",
       "       6.3, 6.1, 5.8, 6.4, 6.5, 4.7, 5.8, 7.3, 5.9, 7.9, 4.6, 5.8, 6.6,\n",
       "       6.7, 5.1, 7.2, 5.8, 4.9, 4.8, 4.4, 5.6, 4.9, 6.3, 5.4, 6.3, 4.7,\n",
       "       6.9, 6.3, 6.6, 5. , 6.1, 5.6, 5.1, 6.6, 6.2, 6.1, 5.1, 5.6, 6.1,\n",
       "       5. , 6.4, 5. , 5.6, 5.1, 6.3, 5. , 7.3, 5.1, 5.9, 4.9, 4.6, 5.6,\n",
       "       5.5, 5. , 4.9, 5.5, 6.1, 6.3, 5.1, 6.5, 6.1, 5.9, 5.4, 4.8, 4.9,\n",
       "       5. , 6.3, 5.1, 6.7, 4.7, 6.5, 5.6, 5. , 6.2, 6. , 5.8, 7.6, 4.6,\n",
       "       7.7, 5.7, 4.8, 6.9, 5.1, 7.1, 5.7, 5.5, 5.8, 4.6, 6.5, 7.7, 5.4,\n",
       "       4.7, 5.7, 5. , 6.7, 6.2, 6.8, 5.8, 6.5, 7.3, 4.9, 5.1, 6.9, 6.7,\n",
       "       6. , 6.3, 6.5, 5.8, 5.6, 6.5, 5.5, 6.3, 6.4, 6. , 5.9, 5. , 5. ,\n",
       "       5.6, 4.6, 6.7, 5.4, 6.5, 6.5, 6.2, 4.9, 5.2, 6.1, 5. , 5.8, 4.8,\n",
       "       4.4, 7.2, 6.3, 5. , 6.7, 5.7, 7. , 5.6, 6.8, 6.4, 4.3, 6.2, 4.6,\n",
       "       6.9, 4.8, 5.1, 4.4, 4.4, 6.3, 6.8, 6.7, 5.5, 6.3, 7. , 4.9, 5. ,\n",
       "       6.1, 5.2, 5.7, 4.4, 6.4, 4.8, 5. , 5. , 6.3, 6.4, 5.9, 6.1, 5.5,\n",
       "       5.8, 5.4, 6.3, 5.2, 5.1, 4.9, 4.9, 6.7, 6.7, 6.7, 6.3, 6. , 5.8,\n",
       "       7.2, 6. , 5.8, 5. , 5.1, 6.2, 5.5, 6.3, 5.5, 4.4, 6.3, 5.1, 6.3,\n",
       "       5.8, 7.2, 7.7, 6.3, 4.9, 6.9, 5.5, 5.9, 5.7, 5.7, 5.2, 6.4, 5. ,\n",
       "       5.5, 5.7, 7.6, 7.6, 5.5, 5.1, 4.9, 6.4, 7.3, 7. , 4.8, 7.6, 5.4,\n",
       "       5.4, 6.4, 6.2, 5. , 6.7, 6.2, 6.3, 5.5, 5.6, 6. , 6. , 6.1, 6.9,\n",
       "       5.7, 5.5, 6.3, 4.8, 4.6, 5.1, 6.7, 4.4, 4.9, 5.8, 5.5, 5.5, 4.9,\n",
       "       5.1, 7.6, 6.5, 6.9, 7.7, 7.2, 5.7, 5.8, 5.6, 6.9, 6.3, 4.8, 7.2,\n",
       "       7.7, 6.2, 5.4, 6.1, 5.4, 6.2, 6.7, 4.9, 5.9, 5.5, 5.8, 5.1, 5.2,\n",
       "       4.4, 6.3, 4.9, 5. , 6.1, 7.9, 5.7, 5.7, 6. , 7.6, 6.1, 6.7, 6.7,\n",
       "       4.8, 5.2, 5.5, 6.2, 6.6, 5. , 4.8, 4.6, 7.7, 7.2, 5.2, 6.7, 7. ,\n",
       "       4.8, 5.4, 4.9, 4.4, 6.9, 6.3, 5.8, 5.5, 4.9, 5.7, 5.2, 6. , 7.7,\n",
       "       5.9, 6.9, 4.5, 6.3, 5.7, 6.9, 5.4, 6.7, 5.5, 6.5, 6.1, 6. , 7.7,\n",
       "       6.2, 5. , 6.7, 5.4, 5. , 4.9, 6.8, 5. , 5.1, 5.8, 6.3, 4.8, 5. ,\n",
       "       5.1, 5.5, 4.9, 7.1, 6.3, 6.5, 5. , 6.1, 4.8, 6.7, 6.4, 5. , 6.5,\n",
       "       4.3, 4.3, 5. , 6.4, 4.6, 5.1, 4.5, 5. , 6.3, 5.6, 5.9, 6.7, 5.1,\n",
       "       5.3, 4.9, 4.4, 4.8, 5.4, 5.4, 6.4, 6.9, 5.5, 6.7, 4.6, 7.2, 5.8,\n",
       "       4.6, 5. , 4.9, 4.8, 6.1, 6.6, 6.8, 5.1, 4.9, 6.8, 6.1, 5. , 6.7,\n",
       "       4.9, 6.9, 5.9, 7.6, 5.5, 5. , 4.5, 5.7, 5.3, 6.1, 7.2, 7.2, 4.9,\n",
       "       5.9, 7.1, 5.1, 5. , 5.1, 5.8, 6.5, 5.5, 6.8, 6.5, 7. , 6.2, 4.7,\n",
       "       5. , 5. , 6.7, 4.6, 6.3, 5.2, 6.4, 5. , 5.2, 4.6, 6.7, 6.7, 4.8,\n",
       "       5.1, 7. , 6.3, 6.7, 4.5, 5.9, 6.8, 6.5, 5. , 6.1, 6.7, 5.1, 4.4,\n",
       "       6.3, 5.1, 6.3, 5.1, 6.5, 5.8, 7.9, 5.3, 6.5, 6.7, 5.7, 6.9, 4.4,\n",
       "       5.6, 5.2, 5.7, 5.2, 6.8, 7.7, 4.4, 6.3, 5. , 6. , 5.8, 6.4, 6.7,\n",
       "       5.1, 5.4, 5.4, 4.9, 6. , 4.8, 6.1, 4.9, 6.5, 5.6, 7.7, 6.6, 5.8,\n",
       "       4.9, 5.6, 6.5, 6.3, 5.8, 5.8, 5.2, 6. , 6.7, 4.8, 5.3, 5.8, 5.8,\n",
       "       6. , 7.7, 5.8, 5. , 6.5, 5.1, 5. , 5.3, 4.9, 5.8, 4.8, 5.9, 6.4,\n",
       "       4.6, 4.9, 6.7, 5.2, 5. , 5.5, 6.9, 4.7, 6.7, 6.1, 5.7, 6.3, 6.7,\n",
       "       5.4, 5.2, 5.9, 6.4, 4.9, 5.5, 5.9, 5.9, 4.6, 6.3, 7.6, 5. , 4.8,\n",
       "       4.6, 5.2, 5.1, 6.4, 4.8, 5. , 6.2, 6.7, 6. , 5.9, 5.6, 7. , 6. ,\n",
       "       4.9, 6.4, 7.1, 5.9, 6.9, 5.1, 4.8, 7.6, 5.4, 5.7, 6.2, 6.2, 6.1,\n",
       "       5. , 6. , 5.8, 5.4, 6.3, 5.5, 5.6, 7.1, 6. , 6.1, 6.3, 5.8, 5.4,\n",
       "       4.8, 6.4, 6.7, 6.3, 6.3, 5.6, 5. , 5.7, 6.5, 5. , 5.8, 5.7, 5.2,\n",
       "       5.2, 6.4, 6.4, 5.2, 5. , 6.3, 6. , 5. , 6.5, 5.7, 4.6, 6. , 5. ,\n",
       "       5.1, 5.7, 7.2, 6. , 5.7, 6.5, 5. , 5.6, 6.9, 6.3, 5. , 5.8, 7.2,\n",
       "       6.7, 6.1, 5.7, 6.7, 5.3, 7.9, 6.7, 4.4, 4.6, 6.6, 6.7, 5. , 7.7,\n",
       "       5. , 6.3, 6.9, 6.5, 7. , 5. , 5.1, 7.6, 4.8, 5. , 5.8, 7.3, 6.4,\n",
       "       7.3, 5.6, 6.7, 7.2, 5.9, 5.9, 6. , 7.3, 5.8, 6.5, 5.6, 5.6, 6.6,\n",
       "       4.9, 6.1, 5.1, 6.1, 5. , 5.2, 5.1, 4.8, 6.3, 5.7, 4.9, 6.7, 5.5,\n",
       "       5.8, 5.7, 6. , 5.4, 6.7, 5.9, 5.9, 6.4, 7.2, 6.8, 6. , 6.3, 5.1,\n",
       "       6.4, 5. , 6.7, 5.7, 6.3, 5.4, 5.8, 7.3, 5.1, 6. , 4.6, 5.7, 6.9,\n",
       "       6.1, 6. , 5.2, 6.7, 6.3, 7.7, 6. , 6. , 6.1, 6.2, 5. , 6.1, 5.7,\n",
       "       6.3, 5.5, 7.2, 6.6, 7.3, 6.9, 6.8, 6.1, 4.9, 6.7, 5.5, 7.2, 6.1,\n",
       "       4.9, 6.1, 5.1, 7.7, 5.2, 5.6, 4.8, 7. , 6.8, 7.4, 6. , 5.5, 6.6,\n",
       "       5.7, 5.8, 4.8, 6.4, 4.8, 7.2, 5. , 4.7, 5.4, 6.6, 5.8, 6.6, 5.8,\n",
       "       6.3, 5.6, 4.7, 4.9, 6.3, 7.6, 5.5, 6.2, 5. , 6. , 5.9, 7.2, 6. ,\n",
       "       5.7, 5.2, 5. , 6.5, 7.2, 7.2, 6.9, 4.6, 7.7, 5.4, 4.9, 6.3, 6.3,\n",
       "       5.3, 5.4, 5.7, 4.7, 5.5, 6.7, 5. , 6.8, 5.7, 5.1, 6. , 4.9, 5.1,\n",
       "       6.1, 5.8, 5. , 5.2, 5.3, 7.6, 4.7, 7.4, 6.3, 6.1, 4.4, 6.3, 7.7,\n",
       "       6.3, 6.2, 6.1, 6.1, 7.7, 7.6, 6.5, 5.6, 4.4, 5.2, 5.2, 4.9, 4.8,\n",
       "       4.9, 6.1, 6.7, 7.2, 6.9, 5. , 5. , 5.8, 7.3, 5.6, 6.2, 4.3, 5.9,\n",
       "       7.2, 6. , 5.6, 5.8, 5. , 5.7, 6.3, 4.6, 4.6, 5.2, 6.4, 6.7, 4.4,\n",
       "       6.6, 6.3, 4.3, 6.1, 7.4, 4.9, 6.5, 4.6, 6.5, 5.5, 6.7, 6.7, 5.2,\n",
       "       5.5, 6.5, 6.1, 5.2, 6. , 5.8, 6.4, 6. , 7.2, 6.3, 6.3, 7.7, 5.8,\n",
       "       5. , 4.9, 5.8, 5.7, 5.4, 6.4, 6.7, 6.3, 5. , 5.5, 6.7, 5.5, 5. ,\n",
       "       7.9, 6.3, 4.7, 5. , 6.7, 6.3, 5.5, 4.9, 7.7, 5.9, 5.5, 5.7, 6.1,\n",
       "       5. , 5.2, 5. , 6.2, 5.5, 6.9, 5.7, 5.5, 5.4, 4.8, 5.6, 6.5])"
      ]
     },
     "execution_count": 22,
     "metadata": {},
     "output_type": "execute_result"
    }
   ],
   "source": [
    "# Add your code here\n",
    "\n",
    "\n",
    "def boot_Strap(D, B=1000, seed=0):\n",
    "    boot_strap = np.zeros(B)\n",
    "    for i in range(B):\n",
    "        boot_strap[i] = np.random.choice(np.array(D['Sepal.Length']).flatten(), replace=True)\n",
    "    return np.mean(boot_strap), np.std(boot_strap), boot_strap\n",
    "alpha_M, alpha_SD, boot_seq = boot_Strap( df,\n",
    "                   B=1000,\n",
    "                   seed=0)\n",
    "print({alpha_M},{alpha_SD})\n",
    "boot_seq"
   ]
  },
  {
   "cell_type": "markdown",
   "id": "66c6c663-f3bb-4a15-8896-6dccfb7259fd",
   "metadata": {},
   "source": [
    "_(viii)_ Next, let's compute 95% confidence intervals, for the mean value of iris petal length. (Hint: use the `np.percentile` function)"
   ]
  },
  {
   "cell_type": "code",
   "execution_count": 25,
   "id": "74de4a76-e500-4c93-82a9-e7365cc86c91",
   "metadata": {},
   "outputs": [
    {
     "data": {
      "text/plain": [
       "array([1.2725, 6.455 ])"
      ]
     },
     "execution_count": 25,
     "metadata": {},
     "output_type": "execute_result"
    }
   ],
   "source": [
    "# Add your code here\n",
    "np.percentile(np.array(df['Petal.Length']).flatten(),[2.5,97.5])"
   ]
  },
  {
   "cell_type": "markdown",
   "id": "488e54f7-ebe4-4740-835c-9832320005d0",
   "metadata": {},
   "source": [
    "_(ix)_. Use the plot function to create an histogram of the bootstrapped samples. What does this histogram show ?"
   ]
  },
  {
   "cell_type": "code",
   "execution_count": 33,
   "id": "4fca4e3f",
   "metadata": {},
   "outputs": [
    {
     "data": {
      "image/png": "[encoded data removed]",
      "text/plain": [
       "<Figure size 640x480 with 1 Axes>"
      ]
     },
     "metadata": {},
     "output_type": "display_data"
    }
   ],
   "source": [
    "#Complete this\n",
    "\n",
    "# Create a figure and axis\n",
    "#fig, ax = plt.subplots()\n",
    "\n",
    "# Create the histogram\n",
    "#Add your code here\n",
    "pd.DataFrame(boot_seq).hist()\n",
    "# Add a title\n",
    "#Add your code here\n",
    "plt.title(\"bootstap Samples\")\n",
    "# Add a label to the x-axis\n",
    "#Add your code here\n",
    "plt.xlabel('Sample Value')\n",
    "# Add a label to the y-axis\n",
    "#Add your code here\n",
    "plt.ylabel('Number of occurances Value')\n",
    "# Show the plot\n",
    "plt.show()"
   ]
  },
  {
   "cell_type": "markdown",
   "id": "bfa9a095-9c7a-4ab5-aa99-b11bf419fae0",
   "metadata": {},
   "source": [
    "_(x)_ Given your bootstrapped analysis, what do you recommend to shipping company? "
   ]
  },
  {
   "cell_type": "code",
   "execution_count": null,
   "id": "5e83202e-4aab-44bb-8586-5d0e82e9e201",
   "metadata": {},
   "outputs": [],
   "source": [
    "# Write your answer here\n",
    "Looking at the bootsrap samples and analysis the values can vary alot from the mean, so design the shipping logistics based on 95% range aas given above cc.  "
   ]
  },
  {
   "cell_type": "markdown",
   "id": "466943e8",
   "metadata": {},
   "source": [
    "# Criteria\n",
    "\n",
    "|Criteria            |Complete           |Incomplete          |\n",
    "|--------------------|---------------|--------------|\n",
    "|Bootstrapping|All steps are done correctly and the answers are correct.|At least one step is done incorrectly leading to a wrong answer.|"
   ]
  },
  {
   "cell_type": "markdown",
   "id": "68b8a226",
   "metadata": {},
   "source": [
    "## Submission Information\n",
    "\n",
    "🚨 **Please review our [Assignment Submission Guide](https://github.com/UofT-DSI/onboarding/blob/main/onboarding_documents/submissions.md)** 🚨 for detailed instructions on how to format, branch, and submit your work. Following these guidelines is crucial for your submissions to be evaluated correctly.\n",
    "\n",
    "### Note:\n",
    "\n",
    "If you like, you may collaborate with others in the cohort. If you choose to do so, please indicate with whom you have worked with in your pull request by tagging their GitHub username. Separate submissions are required.\n",
    "\n",
    "\n",
    "### Submission Parameters:\n",
    "* Submission Due Date: `HH:MM AM/PM - DD/MM/YYYY`\n",
    "* The branch name for your repo should be: `assignment-3`\n",
    "* What to submit for this assignment:\n",
    "    * This Jupyter Notebook (assignment_3.ipynb) should be populated and should be the only change in your pull request.\n",
    "* What the pull request link should look like for this assignment: `https://github.com/<your_github_username>/applied_statistical_concepts/pull/<pr_id>`\n",
    "    * Open a private window in your browser. Copy and paste the link to your pull request into the address bar. Make sure you can see your pull request properly. This helps the technical facilitator and learning support staff review your submission easily.\n",
    "\n",
    "Checklist:\n",
    "- [ ] Created a branch with the correct naming convention.\n",
    "- [ ] Ensured that the repository is public.\n",
    "- [ ] Reviewed the PR description guidelines and adhered to them.\n",
    "- [ ] Verify that the link is accessible in a private browser window.\n",
    "\n",
    "If you encounter any difficulties or have questions, please don't hesitate to reach out to our team via our Slack at `#cohort-3-help`. Our Technical Facilitators and Learning Support staff are here to help you navigate any challenges.\n"
   ]
  }
 ],
 "metadata": {
  "kernelspec": {
   "display_name": "Python 3.10.4",
   "language": "python",
   "name": "python3"
  },
  "language_info": {
   "codemirror_mode": {
    "name": "ipython",
    "version": 3
   },
   "file_extension": ".py",
   "mimetype": "text/x-python",
   "name": "python",
   "nbconvert_exporter": "python",
   "pygments_lexer": "ipython3",
   "version": "3.9.15"
  },
  "vscode": {
   "interpreter": {
    "hash": "497a84dc8fec8cf8d24e7e87b6d954c9a18a327edc66feb9b9ea7e9e72cc5c7e"
   }
  }
 },
 "nbformat": 4,
 "nbformat_minor": 5
}
